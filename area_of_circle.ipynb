{
  "nbformat": 4,
  "nbformat_minor": 0,
  "metadata": {
    "colab": {
      "provenance": []
    },
    "kernelspec": {
      "name": "python3",
      "display_name": "Python 3"
    },
    "language_info": {
      "name": "python"
    }
  },
  "cells": [
    {
      "cell_type": "code",
      "source": [
        "r=float(input(\"enter the  radius of circle:\"))\n",
        "pi=3.14\n",
        "area=pi*r*r\n",
        "print(\"area of circle is:\",area)"
      ],
      "metadata": {
        "colab": {
          "base_uri": "https://localhost:8080/"
        },
        "id": "GoN_rM60gllB",
        "outputId": "46f734f4-1187-4881-c231-5920ed9c73f3"
      },
      "execution_count": 7,
      "outputs": [
        {
          "output_type": "stream",
          "name": "stdout",
          "text": [
            "enter the  radius of circle:2\n",
            "area of circle is: 12.56\n"
          ]
        }
      ]
    },
    {
      "cell_type": "code",
      "source": [],
      "metadata": {
        "id": "r6L0CmiXfzyf"
      },
      "execution_count": null,
      "outputs": []
    }
  ]
}