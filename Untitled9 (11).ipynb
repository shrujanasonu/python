{
  "nbformat": 4,
  "nbformat_minor": 0,
  "metadata": {
    "colab": {
      "provenance": []
    },
    "kernelspec": {
      "name": "python3",
      "display_name": "Python 3"
    },
    "language_info": {
      "name": "python"
    }
  },
  "cells": [
    {
      "cell_type": "code",
      "source": [
        "def sum_of_squares(n):\n",
        "    total = 0\n",
        "    for i in range(1, n + 1):\n",
        "        total += i ** 2\n",
        "    return total\n",
        "n = int(input(\"Enter a number: \"))\n",
        "print(f\"Sum of squares of first {n} numbers: {sum_of_squares(n)}\")\n"
      ],
      "metadata": {
        "colab": {
          "base_uri": "https://localhost:8080/"
        },
        "id": "88X08k-R_1Gr",
        "outputId": "4e6030f1-8052-4de0-82a5-273b7c6e48c0"
      },
      "execution_count": 13,
      "outputs": [
        {
          "output_type": "stream",
          "name": "stdout",
          "text": [
            "Enter a number: 23\n",
            "Sum of squares of first 23 numbers: 4324\n"
          ]
        }
      ]
    }
  ]
}