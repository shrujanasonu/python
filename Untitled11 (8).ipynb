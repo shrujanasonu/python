{
  "nbformat": 4,
  "nbformat_minor": 0,
  "metadata": {
    "colab": {
      "provenance": []
    },
    "kernelspec": {
      "name": "python3",
      "display_name": "Python 3"
    },
    "language_info": {
      "name": "python"
    }
  },
  "cells": [
    {
      "cell_type": "code",
      "source": [
        "class shape:\n",
        "  def area(self):\n",
        "    pass\n",
        "class rectangle(shape):\n",
        "  def __init__(self,lenght,width):\n",
        "    self.lenght=lenght\n",
        "    self.width=width\n",
        "\n",
        "  def area (self):\n",
        "    return self.lenght*self.width\n",
        "class circle(shape):\n",
        "  def __init__(self,radius):\n",
        "    self.radius=radius\n",
        "  def area(self):\n",
        "    return 3.14*self.radius*self.radius\n",
        "shapes=[rectangle(4,5),circle(3)]\n",
        "for i in shapes:\n",
        "    print(\"area:\",i.area())"
      ],
      "metadata": {
        "colab": {
          "base_uri": "https://localhost:8080/"
        },
        "id": "6b_2GVeO7JF3",
        "outputId": "4a03dda7-dce7-485d-915b-d6945884ee92"
      },
      "execution_count": 20,
      "outputs": [
        {
          "output_type": "stream",
          "name": "stdout",
          "text": [
            "area: 20\n",
            "area: 28.259999999999998\n"
          ]
        }
      ]
    },
    {
      "cell_type": "code",
      "source": [],
      "metadata": {
        "id": "bc747uUqAgSY"
      },
      "execution_count": null,
      "outputs": []
    }
  ]
}