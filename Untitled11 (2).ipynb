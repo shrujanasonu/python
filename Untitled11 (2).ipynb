{
  "nbformat": 4,
  "nbformat_minor": 0,
  "metadata": {
    "colab": {
      "provenance": []
    },
    "kernelspec": {
      "name": "python3",
      "display_name": "Python 3"
    },
    "language_info": {
      "name": "python"
    }
  },
  "cells": [
    {
      "cell_type": "code",
      "source": [
        "def calculator():\n",
        "    print(\"Simple Calculator\")\n",
        "    print(\"Operations: +, -, *, /\")\n",
        "        num1 = float(input(\"Enter first number: \"))\n",
        "        operator = input(\"Enter operator (+, -, *, /): \")\n",
        "        num2 = float(input(\"Enter second number: \"))\n",
        "\n",
        "        if operator == '+':\n",
        "            result = num1 + num2\n",
        "        elif operator == '-':\n",
        "            result = num1 - num2\n",
        "        elif operator == '*':\n",
        "            result = num1 * num2\n",
        "        elif operator == '/':\n",
        "            if num2 == 0:\n",
        "                print(\"Error! Division by zero.\")\n",
        "                return\n",
        "            result = num1 / num2\n",
        "        else:\n",
        "            print(\"Invalid operator\")\n",
        "            return\n",
        "\n",
        "        print(f\"Result: {result}\")\n",
        "\n",
        "    except ValueError:\n",
        "        print(\"Invalid input! Please enter numbers.\")\n",
        "\n",
        "calculator()\n"
      ],
      "metadata": {
        "colab": {
          "base_uri": "https://localhost:8080/"
        },
        "id": "ZtH2M9CXu2b1",
        "outputId": "f1483195-cc8b-41d6-d3cd-83316856df38"
      },
      "execution_count": 68,
      "outputs": [
        {
          "output_type": "stream",
          "name": "stdout",
          "text": [
            "Simple Calculator\n",
            "Operations: +, -, *, /\n",
            "Enter first number: 2\n",
            "Enter operator (+, -, *, /): +\n",
            "Enter second number: 6\n",
            "Result: 8.0\n"
          ]
        }
      ]
    }
  ]
}