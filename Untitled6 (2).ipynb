{
  "nbformat": 4,
  "nbformat_minor": 0,
  "metadata": {
    "colab": {
      "provenance": []
    },
    "kernelspec": {
      "name": "python3",
      "display_name": "Python 3"
    },
    "language_info": {
      "name": "python"
    }
  },
  "cells": [
    {
      "cell_type": "code",
      "execution_count": 19,
      "metadata": {
        "colab": {
          "base_uri": "https://localhost:8080/"
        },
        "id": "q5DI7H-PbMNV",
        "outputId": "eef6ebd9-9114-425e-a1d3-dd35a3c9080f"
      },
      "outputs": [
        {
          "output_type": "stream",
          "name": "stdout",
          "text": [
            "enter first number2\n",
            "enter second number4\n",
            "enter operation (+,-,*,/:5\n",
            "invalid operation\n"
          ]
        }
      ],
      "source": [
        "num1 =float(input(\"enter first number\"))\n",
        "num2 =float(input(\"enter second number\"))\n",
        "operation =input(\"enter operation (+,-,*,/:\")\n",
        "if operation == '+':\n",
        " print(\"result\",num1+num2)\n",
        "elif operation == '-':\n",
        " print(\"result\",num1-num2)\n",
        "elif operation == '*':\n",
        " print(\"result\",num1*num2)\n",
        "elif operation == '/':\n",
        " print(\"result\",num1/num2)\n",
        "else:\n",
        "  print(\"invalid operation\")"
      ]
    }
  ]
}