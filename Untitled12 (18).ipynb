{
  "nbformat": 4,
  "nbformat_minor": 0,
  "metadata": {
    "colab": {
      "provenance": []
    },
    "kernelspec": {
      "name": "python3",
      "display_name": "Python 3"
    },
    "language_info": {
      "name": "python"
    }
  },
  "cells": [
    {
      "cell_type": "code",
      "source": [
        "class MyClass:\n",
        "  def __init__(self,name,marks):\n",
        "    self.name=name\n",
        "    self.marks=marks\n",
        "  def pass_or_fail(self):\n",
        "    if self.marks>=90:\n",
        "      print(\"pass\")\n",
        "    else:\n",
        "      print(\"fail\")\n",
        "shrujana=MyClass(\"shrujana\",90)\n",
        "shrujana.pass_or_fail()"
      ],
      "metadata": {
        "colab": {
          "base_uri": "https://localhost:8080/"
        },
        "id": "ru8CCOabcya-",
        "outputId": "d31983b9-196b-4ad2-a2e7-5587be0f23a0"
      },
      "execution_count": 99,
      "outputs": [
        {
          "output_type": "stream",
          "name": "stdout",
          "text": [
            "pass\n"
          ]
        }
      ]
    },
    {
      "cell_type": "code",
      "source": [],
      "metadata": {
        "id": "6D1Lcv9JgrSX"
      },
      "execution_count": null,
      "outputs": []
    }
  ]
}