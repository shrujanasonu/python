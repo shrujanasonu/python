{
  "nbformat": 4,
  "nbformat_minor": 0,
  "metadata": {
    "colab": {
      "provenance": []
    },
    "kernelspec": {
      "name": "python3",
      "display_name": "Python 3"
    },
    "language_info": {
      "name": "python"
    }
  },
  "cells": [
    {
      "cell_type": "code",
      "execution_count": 14,
      "metadata": {
        "colab": {
          "base_uri": "https://localhost:8080/"
        },
        "id": "q5DI7H-PbMNV",
        "outputId": "492473b1-c923-4d81-ff4a-7e983b422c8e"
      },
      "outputs": [
        {
          "output_type": "stream",
          "name": "stdout",
          "text": [
            "enter the number of terms:4\n",
            "0 1 1 2 "
          ]
        }
      ],
      "source": [
        "n =int(input(\"enter the number of terms:\"))\n",
        "a , b=0, 1\n",
        "for i in range (n):\n",
        "  print(a, end=\" \")\n",
        "  a , b = b, a +b"
      ]
    }
  ]
}