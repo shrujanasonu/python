{
  "nbformat": 4,
  "nbformat_minor": 0,
  "metadata": {
    "colab": {
      "provenance": []
    },
    "kernelspec": {
      "name": "python3",
      "display_name": "Python 3"
    },
    "language_info": {
      "name": "python"
    }
  },
  "cells": [
    {
      "cell_type": "code",
      "source": [
        "import random\n",
        "random_int = random.randint(start, end)\n",
        "print(f\"Random number between {start} and {end}: {random_int}\")\n"
      ],
      "metadata": {
        "colab": {
          "base_uri": "https://localhost:8080/"
        },
        "id": "f6yejum92Z6o",
        "outputId": "9528d2d3-3919-472a-a203-ecaed1a0d416"
      },
      "execution_count": 87,
      "outputs": [
        {
          "output_type": "stream",
          "name": "stdout",
          "text": [
            "Random number between 2 and 4: 2\n"
          ]
        }
      ]
    }
  ]
}