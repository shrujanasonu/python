{
  "nbformat": 4,
  "nbformat_minor": 0,
  "metadata": {
    "colab": {
      "provenance": []
    },
    "kernelspec": {
      "name": "python3",
      "display_name": "Python 3"
    },
    "language_info": {
      "name": "python"
    }
  },
  "cells": [
    {
      "cell_type": "code",
      "source": [
        "sonu =[\"yummy\",\"yumm\",\"yum\",\"yu\"]\n",
        "sonu[0] =\"shrujana\"\n",
        "sonu.append(\"shrujana\")\n",
        "print(sonu)"
      ],
      "metadata": {
        "colab": {
          "base_uri": "https://localhost:8080/"
        },
        "id": "Oli6x4oBrePH",
        "outputId": "45ce5a31-efe8-464f-ceca-fd2b7a7d710f"
      },
      "execution_count": 2,
      "outputs": [
        {
          "output_type": "stream",
          "name": "stdout",
          "text": [
            "['shrujana', 'yumm', 'yum', 'yu', 'shrujana']\n"
          ]
        }
      ]
    }
  ]
}