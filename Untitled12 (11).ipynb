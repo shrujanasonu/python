{
  "nbformat": 4,
  "nbformat_minor": 0,
  "metadata": {
    "colab": {
      "provenance": []
    },
    "kernelspec": {
      "name": "python3",
      "display_name": "Python 3"
    },
    "language_info": {
      "name": "python"
    }
  },
  "cells": [
    {
      "cell_type": "code",
      "source": [
        "numbers = [3, 1, 7, 9, 2, 5]\n",
        "max_num = max(numbers)\n",
        "min_num = min(numbers)\n",
        "print(\"Maximum:\", max_num)\n",
        "print(\"Minimum:\", min_num)\n"
      ],
      "metadata": {
        "colab": {
          "base_uri": "https://localhost:8080/"
        },
        "id": "VC8W7KQf1dlF",
        "outputId": "684aeca6-a9ba-4332-f2e3-c3e45409514a"
      },
      "execution_count": 7,
      "outputs": [
        {
          "output_type": "stream",
          "name": "stdout",
          "text": [
            "Maximum: 9\n",
            "Minimum: 1\n"
          ]
        }
      ]
    }
  ]
}