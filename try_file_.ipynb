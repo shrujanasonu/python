{
  "nbformat": 4,
  "nbformat_minor": 0,
  "metadata": {
    "colab": {
      "provenance": []
    },
    "kernelspec": {
      "name": "python3",
      "display_name": "Python 3"
    },
    "language_info": {
      "name": "python"
    }
  },
  "cells": [
    {
      "cell_type": "code",
      "execution_count": 8,
      "metadata": {
        "colab": {
          "base_uri": "https://localhost:8080/"
        },
        "id": "m0ClR88QK6TL",
        "outputId": "19b68b2f-503e-4f70-df90-780b85d711f5"
      },
      "outputs": [
        {
          "output_type": "stream",
          "name": "stdout",
          "text": [
            "not eligible\n"
          ]
        }
      ],
      "source": [
        "def sonu(age):\n",
        "  if age<20:\n",
        "    print(\"eligible\")\n",
        "  else:\n",
        "    print(\"not eligible\")\n",
        "sonu(23)"
      ]
    }
  ]
}