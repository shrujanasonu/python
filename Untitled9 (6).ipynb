{
  "nbformat": 4,
  "nbformat_minor": 0,
  "metadata": {
    "colab": {
      "provenance": []
    },
    "kernelspec": {
      "name": "python3",
      "display_name": "Python 3"
    },
    "language_info": {
      "name": "python"
    }
  },
  "cells": [
    {
      "cell_type": "code",
      "source": [
        "def count_digits(n):\n",
        "    return len(str(abs(n)))\n",
        "num = int(input(\"Enter a number: \"))\n",
        "print(f\"Number of digits in {num}: {count_digits(num)}\")\n"
      ],
      "metadata": {
        "colab": {
          "base_uri": "https://localhost:8080/"
        },
        "id": "InFR02WY79X1",
        "outputId": "e1646c09-81dc-489c-f8c8-f25af541d4e8"
      },
      "execution_count": 8,
      "outputs": [
        {
          "output_type": "stream",
          "name": "stdout",
          "text": [
            "Enter a number: 6\n",
            "Number of digits in 6: 1\n"
          ]
        }
      ]
    }
  ]
}