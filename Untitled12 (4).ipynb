{
  "nbformat": 4,
  "nbformat_minor": 0,
  "metadata": {
    "colab": {
      "provenance": []
    },
    "kernelspec": {
      "name": "python3",
      "display_name": "Python 3"
    },
    "language_info": {
      "name": "python"
    }
  },
  "cells": [
    {
      "cell_type": "code",
      "source": [
        "a = {\n",
        "    \"name\":\"sonu\",\n",
        "    \"age\":\"19\",\n",
        "    \"weight\":\"25\",\n",
        "}\n",
        "a[\"name\"]=\"sonu\"\n",
        "print(a)"
      ],
      "metadata": {
        "colab": {
          "base_uri": "https://localhost:8080/"
        },
        "id": "dWBA2iacBDMb",
        "outputId": "156d4726-9237-4b5b-b836-39bce95b17d8"
      },
      "execution_count": 34,
      "outputs": [
        {
          "output_type": "stream",
          "name": "stdout",
          "text": [
            "{'name': 'sonu', 'age': '19', 'weight': '25'}\n"
          ]
        }
      ]
    },
    {
      "cell_type": "code",
      "source": [],
      "metadata": {
        "id": "7SkeOYXGA-7u"
      },
      "execution_count": null,
      "outputs": []
    }
  ]
}