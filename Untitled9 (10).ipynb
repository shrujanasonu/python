{
  "nbformat": 4,
  "nbformat_minor": 0,
  "metadata": {
    "colab": {
      "provenance": []
    },
    "kernelspec": {
      "name": "python3",
      "display_name": "Python 3"
    },
    "language_info": {
      "name": "python"
    }
  },
  "cells": [
    {
      "cell_type": "code",
      "source": [
        "def reverse_number(n):\n",
        "    rev = 0\n",
        "    while n > 0:\n",
        "        rev = rev * 10 + (n % 10)\n",
        "        n //= 10\n",
        "    return rev\n",
        "\n",
        "num = int(input(\"Enter a number: \"))\n",
        "print(f\"Reversed number: {reverse_number(num)}\")\n"
      ],
      "metadata": {
        "colab": {
          "base_uri": "https://localhost:8080/"
        },
        "id": "bHV_ikHq_HhP",
        "outputId": "64a22c6e-ba6e-4edb-fd00-a47206e1a594"
      },
      "execution_count": 12,
      "outputs": [
        {
          "output_type": "stream",
          "name": "stdout",
          "text": [
            "Enter a number: 345\n",
            "Reversed number: 543\n"
          ]
        }
      ]
    }
  ]
}