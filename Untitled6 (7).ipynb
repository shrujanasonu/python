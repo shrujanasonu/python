{
  "nbformat": 4,
  "nbformat_minor": 0,
  "metadata": {
    "colab": {
      "provenance": []
    },
    "kernelspec": {
      "name": "python3",
      "display_name": "Python 3"
    },
    "language_info": {
      "name": "python"
    }
  },
  "cells": [
    {
      "cell_type": "code",
      "source": [
        "def greet(name,message=\"welcome\"):\n",
        " print(message+\",\"+ name +\"!\")\n",
        "greet(\"shrujana\")\n",
        "greet(\"sonu\",\"hi\")\n",
        ""
      ],
      "metadata": {
        "id": "Ts7BuvQ4acH5",
        "colab": {
          "base_uri": "https://localhost:8080/"
        },
        "outputId": "ba302950-a872-40c5-effe-b941dfa1ae08"
      },
      "execution_count": 5,
      "outputs": [
        {
          "output_type": "stream",
          "name": "stdout",
          "text": [
            "welcome,shrujana!\n",
            "hi,sonu!\n"
          ]
        }
      ]
    }
  ]
}