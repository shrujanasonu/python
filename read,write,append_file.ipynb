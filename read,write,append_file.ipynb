{
  "nbformat": 4,
  "nbformat_minor": 0,
  "metadata": {
    "colab": {
      "provenance": [],
      "gpuType": "T4"
    },
    "kernelspec": {
      "name": "python3",
      "display_name": "Python 3"
    },
    "language_info": {
      "name": "python"
    },
    "accelerator": "GPU"
  },
  "cells": [
    {
      "cell_type": "code",
      "execution_count": 12,
      "metadata": {
        "colab": {
          "base_uri": "https://localhost:8080/"
        },
        "id": "yKfV4AszevND",
        "outputId": "0999bd73-205d-439c-f79d-e2bb8cc334fa"
      },
      "outputs": [
        {
          "output_type": "stream",
          "name": "stdout",
          "text": [
            "8\n"
          ]
        }
      ],
      "source": [
        "a=open('/content/shrujana rani.txt','w')\n",
        "content = a.write(\"shrujana\")\n",
        "print(content)\n",
        "a.close()\n",
        "a.close()"
      ]
    },
    {
      "cell_type": "code",
      "source": [
        "a = open(\"/content/shrujana rani.txt\",\"r\")\n",
        "content=a.read()\n",
        "print(content)\n",
        "a.close()"
      ],
      "metadata": {
        "colab": {
          "base_uri": "https://localhost:8080/"
        },
        "id": "0NrcmrRLjtZQ",
        "outputId": "d458bbd4-8278-48f0-88ed-3f604a98d074"
      },
      "execution_count": 14,
      "outputs": [
        {
          "output_type": "stream",
          "name": "stdout",
          "text": [
            "shrujana\n"
          ]
        }
      ]
    },
    {
      "cell_type": "code",
      "source": [
        "a=open('/content/shrujana rani.txt','w')\n",
        "content = a.write(\"sonu\")\n",
        "print(content)\n",
        "a.close()"
      ],
      "metadata": {
        "colab": {
          "base_uri": "https://localhost:8080/"
        },
        "id": "7SspNtjfjshy",
        "outputId": "0e65e64f-5093-4060-e704-8db8a172efbe"
      },
      "execution_count": 18,
      "outputs": [
        {
          "output_type": "stream",
          "name": "stdout",
          "text": [
            "4\n"
          ]
        }
      ]
    }
  ]
}