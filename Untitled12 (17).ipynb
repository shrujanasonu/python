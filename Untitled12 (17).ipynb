{
  "nbformat": 4,
  "nbformat_minor": 0,
  "metadata": {
    "colab": {
      "provenance": []
    },
    "kernelspec": {
      "name": "python3",
      "display_name": "Python 3"
    },
    "language_info": {
      "name": "python"
    }
  },
  "cells": [
    {
      "cell_type": "code",
      "source": [
        "class canara:\n",
        "  def __init__(self,name,balance,pin=0):\n",
        "    self.name=name\n",
        "    self.balance=balance\n",
        "    self.pin=pin\n",
        "  def deposite(self,amount):\n",
        "    self.balance=self.balance+amount\n",
        "    print(\"your balance is\",self.balance)\n",
        "  def withdraw(self,amount):\n",
        "    if amount<self.balance:\n",
        "      print(\"insufficient balance\")\n",
        "    else:\n",
        "      self.balance=self.balance-amount\n",
        "      print(\"your balance is\",self.balance)\n",
        "print(\"insufficient balance\")\n",
        "canara= canara(\"453861\",0)\n",
        "canara.deposite(500)\n",
        "canara.withdraw(200)"
      ],
      "metadata": {
        "colab": {
          "base_uri": "https://localhost:8080/"
        },
        "id": "6AWwQrZtWpn5",
        "outputId": "f7e6672a-61f2-4467-f297-c92308bf376b"
      },
      "execution_count": 73,
      "outputs": [
        {
          "output_type": "stream",
          "name": "stdout",
          "text": [
            "insufficient balance\n",
            "your balance is 500\n",
            "insufficient balance\n"
          ]
        }
      ]
    }
  ]
}