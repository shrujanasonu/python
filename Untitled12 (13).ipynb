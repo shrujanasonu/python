{
  "nbformat": 4,
  "nbformat_minor": 0,
  "metadata": {
    "colab": {
      "provenance": []
    },
    "kernelspec": {
      "name": "python3",
      "display_name": "Python 3"
    },
    "language_info": {
      "name": "python"
    }
  },
  "cells": [
    {
      "cell_type": "code",
      "source": [
        "class sonu:\n",
        " def sonu(self):\n",
        "  print(f\"my name is {self.name},my age is {self.age}\")\n",
        "shrujana=sonu()\n",
        "shrujana.name=\"rani\"\n",
        "shrujana.age=\"19\"\n",
        "shrujana.sonu()"
      ],
      "metadata": {
        "colab": {
          "base_uri": "https://localhost:8080/"
        },
        "id": "QbIKoSyl4Q2B",
        "outputId": "5ccb0e71-dd9f-4c81-a88b-49f9c0ff280d"
      },
      "execution_count": 29,
      "outputs": [
        {
          "output_type": "stream",
          "name": "stdout",
          "text": [
            "my name is rani,my age is 19\n"
          ]
        }
      ]
    },
    {
      "cell_type": "code",
      "source": [],
      "metadata": {
        "id": "LfQnwS8m2xB8"
      },
      "execution_count": null,
      "outputs": []
    }
  ]
}