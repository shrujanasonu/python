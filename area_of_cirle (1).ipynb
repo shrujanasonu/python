{
  "nbformat": 4,
  "nbformat_minor": 0,
  "metadata": {
    "colab": {
      "provenance": []
    },
    "kernelspec": {
      "name": "python3",
      "display_name": "Python 3"
    },
    "language_info": {
      "name": "python"
    }
  },
  "cells": [
    {
      "cell_type": "code",
      "source": [
        "a=18\n",
        "b= 17\n",
        "c=1\n",
        "print(f\"virat's jersy number is{a}\")\n",
        "print(\"devillier's jersy number is \",+b)\n",
        "print(c)"
      ],
      "metadata": {
        "colab": {
          "base_uri": "https://localhost:8080/"
        },
        "id": "dUZzn-mkiYLe",
        "outputId": "994c2bce-f5da-4444-f16e-5bc38a958033"
      },
      "execution_count": 8,
      "outputs": [
        {
          "output_type": "stream",
          "name": "stdout",
          "text": [
            "virat's jersy number is18\n",
            "devillier's jersy number is  17\n",
            "1\n"
          ]
        }
      ]
    }
  ]
}