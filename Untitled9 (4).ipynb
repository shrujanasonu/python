{
  "nbformat": 4,
  "nbformat_minor": 0,
  "metadata": {
    "colab": {
      "provenance": []
    },
    "kernelspec": {
      "name": "python3",
      "display_name": "Python 3"
    },
    "language_info": {
      "name": "python"
    }
  },
  "cells": [
    {
      "cell_type": "code",
      "source": [
        "def is_palindrome(s):\n",
        "    return str(s) == str(s)[::-1]\n",
        "\n",
        "value = input(\"Enter a string or number: \")\n",
        "if is_palindrome(value):\n",
        "    print(f\"{value} is a palindrome.\")\n",
        "else:\n",
        "    print(f\"{value} is not a palindrome.\")\n"
      ],
      "metadata": {
        "colab": {
          "base_uri": "https://localhost:8080/",
          "height": 0
        },
        "id": "PNEIqFwl63FU",
        "outputId": "42eba5e6-1468-43c4-a50a-a391ab14310a"
      },
      "execution_count": 6,
      "outputs": [
        {
          "output_type": "stream",
          "name": "stdout",
          "text": [
            "Enter a string or number: 2\n",
            "2 is a palindrome.\n"
          ]
        }
      ]
    }
  ]
}