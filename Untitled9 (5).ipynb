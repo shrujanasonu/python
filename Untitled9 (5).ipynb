{
  "nbformat": 4,
  "nbformat_minor": 0,
  "metadata": {
    "colab": {
      "provenance": []
    },
    "kernelspec": {
      "name": "python3",
      "display_name": "Python 3"
    },
    "language_info": {
      "name": "python"
    }
  },
  "cells": [
    {
      "cell_type": "code",
      "source": [
        "def sum_of_evens(start, end):\n",
        "    return sum(num for num in range(start, end + 1) if num % 2 == 0)\n",
        "\n",
        "start = int(input(\"Enter the start of the range: \"))\n",
        "end = int(input(\"Enter the end of the range: \"))\n",
        "\n",
        "print(f\"Sum of even numbers from {start} to {end}: {sum_of_evens(start, end)}\")\n"
      ],
      "metadata": {
        "colab": {
          "base_uri": "https://localhost:8080/"
        },
        "id": "AiJjIKBu7Lkb",
        "outputId": "6e3b10e1-c3d7-44ba-b223-a4b36f378008"
      },
      "execution_count": 7,
      "outputs": [
        {
          "output_type": "stream",
          "name": "stdout",
          "text": [
            "Enter the start of the range: 2\n",
            "Enter the end of the range: 7\n",
            "Sum of even numbers from 2 to 7: 12\n"
          ]
        }
      ]
    }
  ]
}