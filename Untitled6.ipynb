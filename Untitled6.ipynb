{
  "nbformat": 4,
  "nbformat_minor": 0,
  "metadata": {
    "colab": {
      "provenance": []
    },
    "kernelspec": {
      "name": "python3",
      "display_name": "Python 3"
    },
    "language_info": {
      "name": "python"
    }
  },
  "cells": [
    {
      "cell_type": "code",
      "execution_count": 2,
      "metadata": {
        "colab": {
          "base_uri": "https://localhost:8080/"
        },
        "id": "q5DI7H-PbMNV",
        "outputId": "ce8c8025-b9ac-4ec6-edfa-ff0fde234d31"
      },
      "outputs": [
        {
          "output_type": "stream",
          "name": "stdout",
          "text": [
            "0\n",
            "1\n",
            "2\n",
            "3\n",
            "4\n"
          ]
        }
      ],
      "source": [
        "for i in range (10):\n",
        "   if i ==5:\n",
        "    break\n",
        "   print(i)"
      ]
    },
    {
      "cell_type": "code",
      "source": [
        "a=int(input(\"Enter start range\"))\n",
        "b =int(input(\"enter end range\"))\n",
        "sum = 0\n",
        "for i in range(a,b+2):\n",
        "  sum=sum+i\n",
        "  print(sum)\n"
      ],
      "metadata": {
        "colab": {
          "base_uri": "https://localhost:8080/"
        },
        "id": "rvAXAUvih1HW",
        "outputId": "e5fb7393-08a1-4412-c577-63ba0d4f67a3"
      },
      "execution_count": 6,
      "outputs": [
        {
          "output_type": "stream",
          "name": "stdout",
          "text": [
            "Enter start range1\n",
            "enter end range2\n",
            "1\n",
            "3\n",
            "6\n"
          ]
        }
      ]
    },
    {
      "cell_type": "code",
      "source": [
        "a=int(input(\"enter start range\"))\n",
        "b=int(input (\"enter end range\"))\n",
        "fact =1\n",
        "for i in range(1,6+1):\n",
        "  fact*=i\n",
        "  print(fact)\n"
      ],
      "metadata": {
        "colab": {
          "base_uri": "https://localhost:8080/"
        },
        "id": "tPH9ZpREmmut",
        "outputId": "26095af3-6ff0-4856-d3ed-8544f924c17d"
      },
      "execution_count": 13,
      "outputs": [
        {
          "output_type": "stream",
          "name": "stdout",
          "text": [
            "enter start range1\n",
            "enter end range5\n",
            "1\n",
            "2\n",
            "6\n",
            "24\n",
            "120\n",
            "720\n"
          ]
        }
      ]
    },
    {
      "cell_type": "code",
      "source": [],
      "metadata": {
        "id": "DW3DkAR3nROW"
      },
      "execution_count": null,
      "outputs": []
    }
  ]
}