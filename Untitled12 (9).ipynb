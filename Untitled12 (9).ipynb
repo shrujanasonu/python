{
  "nbformat": 4,
  "nbformat_minor": 0,
  "metadata": {
    "colab": {
      "provenance": []
    },
    "kernelspec": {
      "name": "python3",
      "display_name": "Python 3"
    },
    "language_info": {
      "name": "python"
    }
  },
  "cells": [
    {
      "cell_type": "code",
      "execution_count": 1,
      "metadata": {
        "colab": {
          "base_uri": "https://localhost:8080/"
        },
        "id": "-2Y2twGAwWwp",
        "outputId": "5d59e0f0-33b7-46cd-c446-132da21bbaa9"
      },
      "outputs": [
        {
          "output_type": "stream",
          "name": "stdout",
          "text": [
            "{1, 2, 3, 4, 5, 19}\n"
          ]
        }
      ],
      "source": [
        "a = {1,2,3,4,5,}\n",
        "a.add(19)\n",
        "print(a)"
      ]
    }
  ]
}