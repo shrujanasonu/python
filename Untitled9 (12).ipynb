{
  "nbformat": 4,
  "nbformat_minor": 0,
  "metadata": {
    "colab": {
      "provenance": []
    },
    "kernelspec": {
      "name": "python3",
      "display_name": "Python 3"
    },
    "language_info": {
      "name": "python"
    }
  },
  "cells": [
    {
      "cell_type": "code",
      "source": [
        "n = int(input(\"Enter the number of rows: \"))\n",
        "for i in range(1, n + 1):\n",
        "    print(\" \" * (n - i), end=\"\")  # Print spaces for alignment\n",
        "    for j in range(1, i + 1):\n",
        "        print(j, end=\" \")\n",
        "    print()\n",
        "\n"
      ],
      "metadata": {
        "colab": {
          "base_uri": "https://localhost:8080/"
        },
        "id": "h40-_E1TAjW2",
        "outputId": "13b8f309-a2e0-4a97-a39a-48d945111ce3"
      },
      "execution_count": 18,
      "outputs": [
        {
          "output_type": "stream",
          "name": "stdout",
          "text": [
            "Enter the number of rows: 8\n",
            "       1 \n",
            "      1 2 \n",
            "     1 2 3 \n",
            "    1 2 3 4 \n",
            "   1 2 3 4 5 \n",
            "  1 2 3 4 5 6 \n",
            " 1 2 3 4 5 6 7 \n",
            "1 2 3 4 5 6 7 8 \n"
          ]
        }
      ]
    }
  ]
}