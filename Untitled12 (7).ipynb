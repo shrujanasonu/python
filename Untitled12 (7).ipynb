{
  "nbformat": 4,
  "nbformat_minor": 0,
  "metadata": {
    "colab": {
      "provenance": []
    },
    "kernelspec": {
      "name": "python3",
      "display_name": "Python 3"
    },
    "language_info": {
      "name": "python"
    }
  },
  "cells": [
    {
      "cell_type": "code",
      "source": [
        " class person:\n",
        "  def __init__(self,name,age):\n",
        "    self.name = name\n",
        "    self.age = age\n",
        "  def greet(self):\n",
        "    print(f\"hello,my name is {self.name} and i am {self.age} year old.\" )\n",
        "person1 = person(\"sonu\",19)\n",
        "person1.greet()\n",
        "\n"
      ],
      "metadata": {
        "colab": {
          "base_uri": "https://localhost:8080/"
        },
        "id": "SDK7ZHytV3nP",
        "outputId": "48e734d6-8a73-4d0c-9f76-6f72d19056e8"
      },
      "execution_count": 54,
      "outputs": [
        {
          "output_type": "stream",
          "name": "stdout",
          "text": [
            "hello,my name is sonu and i am 19 year old.\n"
          ]
        }
      ]
    }
  ]
}