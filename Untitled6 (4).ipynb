{
  "nbformat": 4,
  "nbformat_minor": 0,
  "metadata": {
    "colab": {
      "provenance": []
    },
    "kernelspec": {
      "name": "python3",
      "display_name": "Python 3"
    },
    "language_info": {
      "name": "python"
    }
  },
  "cells": [
    {
      "cell_type": "code",
      "source": [
        "\n",
        "a = int(input(\"enter first number: \"))\n",
        "b = int(input(\"enter second number: \"))\n",
        "c = int(input(\"enter third number: \"))\n",
        "if a>b and a>c:\n",
        "  print(\"a is big \")\n",
        "elif b>c:\n",
        "  print(\"b is big\")\n",
        "else:\n",
        "  print(\"c is big\")"
      ],
      "metadata": {
        "colab": {
          "base_uri": "https://localhost:8080/"
        },
        "id": "cd-BkGoX2ZMv",
        "outputId": "09246baf-4ee1-4373-ab23-95e2f45a9a5f"
      },
      "execution_count": 34,
      "outputs": [
        {
          "output_type": "stream",
          "name": "stdout",
          "text": [
            "enter first number: 3\n",
            "enter second number: 4\n",
            "enter third number: 8\n",
            "c is big\n"
          ]
        }
      ]
    }
  ]
}