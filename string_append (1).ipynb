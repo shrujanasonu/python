{
  "nbformat": 4,
  "nbformat_minor": 0,
  "metadata": {
    "colab": {
      "provenance": []
    },
    "kernelspec": {
      "name": "python3",
      "display_name": "Python 3"
    },
    "language_info": {
      "name": "python"
    }
  },
  "cells": [
    {
      "cell_type": "code",
      "source": [
        "sonu =[\"yummy\",\"yumm\",\"yum\",\"yu\"]\n",
        "sonu[0] =\"shrujana rani\"\n",
        "sonu.insert(1,\"shrujana\")\n",
        "sonu.append(\"shrujana\")\n",
        "sonu.remove(\"shrujana\")\n",
        "sonu.pop()\n",
        "print(sonu)\n",
        "sonu.sort()\n",
        "print(sonu)\n",
        "sonu.reverse()\n",
        "print(sonu)\n",
        "\n"
      ],
      "metadata": {
        "colab": {
          "base_uri": "https://localhost:8080/"
        },
        "id": "G13siyk3sbOZ",
        "outputId": "80506257-13c8-416a-9df1-c5306346e653"
      },
      "execution_count": 3,
      "outputs": [
        {
          "output_type": "stream",
          "name": "stdout",
          "text": [
            "['shrujana rani', 'yumm', 'yum', 'yu']\n",
            "['shrujana rani', 'yu', 'yum', 'yumm']\n",
            "['yumm', 'yum', 'yu', 'shrujana rani']\n"
          ]
        }
      ]
    }
  ]
}