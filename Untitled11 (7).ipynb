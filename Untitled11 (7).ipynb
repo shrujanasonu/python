{
  "nbformat": 4,
  "nbformat_minor": 0,
  "metadata": {
    "colab": {
      "provenance": []
    },
    "kernelspec": {
      "name": "python3",
      "display_name": "Python 3"
    },
    "language_info": {
      "name": "python"
    }
  },
  "cells": [
    {
      "cell_type": "code",
      "source": [
        "square = lambda x: x ** 2\n",
        "num = int(input(\"Enter a number: \"))\n",
        "print(f\"Square of {num}: {square(num)}\")\n"
      ],
      "metadata": {
        "colab": {
          "base_uri": "https://localhost:8080/"
        },
        "id": "LySZSJ193G7q",
        "outputId": "13524f09-c432-467a-c2af-72714cbcfb20"
      },
      "execution_count": 88,
      "outputs": [
        {
          "output_type": "stream",
          "name": "stdout",
          "text": [
            "Enter a number: 5\n",
            "Square of 5: 25\n"
          ]
        }
      ]
    }
  ]
}