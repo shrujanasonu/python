{
  "nbformat": 4,
  "nbformat_minor": 0,
  "metadata": {
    "colab": {
      "provenance": []
    },
    "kernelspec": {
      "name": "python3",
      "display_name": "Python 3"
    },
    "language_info": {
      "name": "python"
    }
  },
  "cells": [
    {
      "cell_type": "code",
      "execution_count": 1,
      "metadata": {
        "colab": {
          "base_uri": "https://localhost:8080/"
        },
        "id": "X9GhxpgpHjX8",
        "outputId": "d55afece-6339-48a0-8455-a063340e1abe"
      },
      "outputs": [
        {
          "output_type": "stream",
          "name": "stdout",
          "text": [
            "first number6,second number is9\n"
          ]
        }
      ],
      "source": [
        "a = 6\n",
        "b = 9\n",
        "print(f\"first number{a},second number is{b}\")\n"
      ]
    }
  ]
}