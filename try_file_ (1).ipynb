{
  "nbformat": 4,
  "nbformat_minor": 0,
  "metadata": {
    "colab": {
      "provenance": []
    },
    "kernelspec": {
      "name": "python3",
      "display_name": "Python 3"
    },
    "language_info": {
      "name": "python"
    }
  },
  "cells": [
    {
      "cell_type": "code",
      "source": [
        "\n",
        "try:\n",
        "  num=int(input(\"enter a number\"))\n",
        "  print(10/num)\n",
        "except ValueError:\n",
        "  print(\"give only integer input\")"
      ],
      "metadata": {
        "colab": {
          "base_uri": "https://localhost:8080/"
        },
        "id": "JFZVbcqQSo0h",
        "outputId": "4d628430-fc22-4a97-e8bb-dfb41a26ad74"
      },
      "execution_count": 13,
      "outputs": [
        {
          "output_type": "stream",
          "name": "stdout",
          "text": [
            "enter a numbershrujana\n",
            "give only integer input\n"
          ]
        }
      ]
    }
  ]
}