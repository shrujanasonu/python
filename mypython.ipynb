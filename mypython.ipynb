{
  "nbformat": 4,
  "nbformat_minor": 0,
  "metadata": {
    "colab": {
      "provenance": []
    },
    "kernelspec": {
      "name": "python3",
      "display_name": "Python 3"
    },
    "language_info": {
      "name": "python"
    }
  },
  "cells": [
    {
      "cell_type": "code",
      "execution_count": null,
      "metadata": {
        "id": "GUJvHLAtandi"
      },
      "outputs": [],
      "source": [
        "# Example of indentation in Python\n",
        "\n",
        "# Function with indentation\n",
        "def greet():\n",
        "    print(\"Hello!\")  # Indented inside the function\n",
        "    print(\"Welcome to Python.\")\n",
        "\n",
        "# Using an if statement with indentation\n",
        "age = 18\n",
        "if age >= 18:\n",
        "    print(\"You are eligible to vote.\")  # Indented inside the if block\n",
        "\n",
        "# Using a loop with indentation\n",
        "for i in range(3):\n",
        "    print(\"Number:\", i)  # Indented inside the loop\n",
        "\n",
        "print(\"Program ended.\")  # Outside the loop\n"
      ]
    }
  ]
}