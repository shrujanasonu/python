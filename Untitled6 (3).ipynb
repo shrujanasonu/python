{
  "nbformat": 4,
  "nbformat_minor": 0,
  "metadata": {
    "colab": {
      "provenance": []
    },
    "kernelspec": {
      "name": "python3",
      "display_name": "Python 3"
    },
    "language_info": {
      "name": "python"
    }
  },
  "cells": [
    {
      "cell_type": "code",
      "source": [
        "year=int(input(\"enter the year:\"))\n",
        "if(year%4==0 and year%100!=0 or year%400==0):\n",
        "   print(\"is a leap year\")\n",
        "else:\n",
        "   print(\" not a leap year\")\n",
        "\n"
      ],
      "metadata": {
        "colab": {
          "base_uri": "https://localhost:8080/"
        },
        "id": "Up7LAlF20ji0",
        "outputId": "afee3e2e-6469-4d93-d814-ad358e5da698"
      },
      "execution_count": 27,
      "outputs": [
        {
          "output_type": "stream",
          "name": "stdout",
          "text": [
            "enter the year:2005\n",
            " not a leap year\n"
          ]
        }
      ]
    }
  ]
}