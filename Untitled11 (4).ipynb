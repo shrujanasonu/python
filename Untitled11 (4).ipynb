{
  "nbformat": 4,
  "nbformat_minor": 0,
  "metadata": {
    "colab": {
      "provenance": []
    },
    "kernelspec": {
      "name": "python3",
      "display_name": "Python 3"
    },
    "language_info": {
      "name": "python"
    }
  },
  "cells": [
    {
      "cell_type": "code",
      "source": [
        "def count_vowels(string):\n",
        "    vowels = \"aeiouAEIOU\"\n",
        "    count = sum(1 for char in string if char in vowels)\n",
        "    return count\n",
        "text = input(\"Enter a string: \")\n",
        "vowel_count = count_vowels(text)\n",
        "print(f\"Number of vowels in the string: {vowel_count}\")\n"
      ],
      "metadata": {
        "colab": {
          "base_uri": "https://localhost:8080/"
        },
        "id": "hB8DgLthymbV",
        "outputId": "f81a6ca2-52fa-4f79-c98a-858cb7f58cc3"
      },
      "execution_count": 81,
      "outputs": [
        {
          "output_type": "stream",
          "name": "stdout",
          "text": [
            "Enter a string: a e i o u\n",
            "Number of vowels in the string: 5\n"
          ]
        }
      ]
    }
  ]
}