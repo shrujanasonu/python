{
  "nbformat": 4,
  "nbformat_minor": 0,
  "metadata": {
    "colab": {
      "provenance": []
    },
    "kernelspec": {
      "name": "python3",
      "display_name": "Python 3"
    },
    "language_info": {
      "name": "python"
    }
  },
  "cells": [
    {
      "cell_type": "code",
      "source": [
        "class circle:\n",
        "  def area(self):\n",
        "    return 3.14*float(self.radius)**2\n",
        "circle1=circle()\n",
        "circle1.radius=4\n",
        "circle1.area()"
      ],
      "metadata": {
        "colab": {
          "base_uri": "https://localhost:8080/"
        },
        "id": "LfQnwS8m2xB8",
        "outputId": "6384d564-6f2d-4987-c8ca-407423f29072"
      },
      "execution_count": 38,
      "outputs": [
        {
          "output_type": "execute_result",
          "data": {
            "text/plain": [
              "50.24"
            ]
          },
          "metadata": {},
          "execution_count": 38
        }
      ]
    }
  ]
}