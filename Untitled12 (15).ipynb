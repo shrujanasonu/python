{
  "nbformat": 4,
  "nbformat_minor": 0,
  "metadata": {
    "colab": {
      "provenance": []
    },
    "kernelspec": {
      "name": "python3",
      "display_name": "Python 3"
    },
    "language_info": {
      "name": "python"
    }
  },
  "cells": [
    {
      "cell_type": "code",
      "source": [
        "class shrujana:\n",
        "  def __init__(self):\n",
        "    self.pub = \" she is rud\"\n",
        "    self.__sonu= \"she is good\"\n",
        "  def private(self):\n",
        "    print(self.__sonu)\n",
        "chinni=shrujana()\n",
        "print(chinni.pub)\n",
        "chinni.private()"
      ],
      "metadata": {
        "colab": {
          "base_uri": "https://localhost:8080/"
        },
        "id": "tHkqxbuXDT06",
        "outputId": "f9f22bbc-3e16-4768-925a-53dd6458be32"
      },
      "execution_count": 48,
      "outputs": [
        {
          "output_type": "stream",
          "name": "stdout",
          "text": [
            " she is rud\n",
            "she is good\n"
          ]
        }
      ]
    },
    {
      "cell_type": "code",
      "source": [
        "_"
      ],
      "metadata": {
        "id": "3hJ43wnXFJar"
      },
      "execution_count": null,
      "outputs": []
    }
  ]
}