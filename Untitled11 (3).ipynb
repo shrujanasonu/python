{
  "nbformat": 4,
  "nbformat_minor": 0,
  "metadata": {
    "colab": {
      "provenance": []
    },
    "kernelspec": {
      "name": "python3",
      "display_name": "Python 3"
    },
    "language_info": {
      "name": "python"
    }
  },
  "cells": [
    {
      "cell_type": "code",
      "source": [
        "def gcd (a , b):\n",
        "  while b:\n",
        "     a, b =b , a % b\n",
        "     return a\n",
        "  num1 =int(input(\"enter first number:\"))\n",
        "num2 =int(input(\"enter second number:\"))\n",
        "print(f\"gcd of{num1} and {num2} is {gcd (num1,num2)}\")\n"
      ],
      "metadata": {
        "colab": {
          "base_uri": "https://localhost:8080/"
        },
        "id": "BjiXaSGUvQR8",
        "outputId": "28db308a-f11b-4ee6-e871-c973217e0559"
      },
      "execution_count": 77,
      "outputs": [
        {
          "output_type": "stream",
          "name": "stdout",
          "text": [
            "enter second number:4\n",
            "gcd of8 and 4 is 4\n"
          ]
        }
      ]
    }
  ]
}