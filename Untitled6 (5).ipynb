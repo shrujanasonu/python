{
  "nbformat": 4,
  "nbformat_minor": 0,
  "metadata": {
    "colab": {
      "provenance": []
    },
    "kernelspec": {
      "name": "python3",
      "display_name": "Python 3"
    },
    "language_info": {
      "name": "python"
    }
  },
  "cells": [
    {
      "cell_type": "code",
      "source": [
        "a =int(input(\"enter a number\"))\n",
        "b =int(input(\"enter a number\"))\n",
        "even_sum=0\n",
        "for i in range(2,6+1):\n",
        "  if i%2==0:\n",
        "   even_sum=even_sum+i\n",
        "print(even_sum)\n",
        "\n",
        "\n"
      ],
      "metadata": {
        "colab": {
          "base_uri": "https://localhost:8080/"
        },
        "id": "YPPkgfBw6Khc",
        "outputId": "1afa3c9e-a80d-49b6-9ee0-4cc680152748"
      },
      "execution_count": 54,
      "outputs": [
        {
          "output_type": "stream",
          "name": "stdout",
          "text": [
            "enter a number4\n",
            "enter a number6\n",
            "12\n"
          ]
        }
      ]
    }
  ]
}