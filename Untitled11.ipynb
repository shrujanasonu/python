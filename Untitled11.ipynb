{
  "nbformat": 4,
  "nbformat_minor": 0,
  "metadata": {
    "colab": {
      "provenance": []
    },
    "kernelspec": {
      "name": "python3",
      "display_name": "Python 3"
    },
    "language_info": {
      "name": "python"
    }
  },
  "cells": [
    {
      "cell_type": "code",
      "execution_count": 1,
      "metadata": {
        "colab": {
          "base_uri": "https://localhost:8080/"
        },
        "id": "l7hQWTsbjIzJ",
        "outputId": "9518e8bc-b9a6-4fb3-9cbb-c415bb000f3b"
      },
      "outputs": [
        {
          "output_type": "stream",
          "name": "stdout",
          "text": [
            "c is greater\n"
          ]
        }
      ],
      "source": [
        "a = 10\n",
        "b = 16\n",
        "c = 18\n",
        "if a>=b and a>=c:\n",
        "    print(\"a is greater\")\n",
        "elif b>=a and b>=c:\n",
        "    print(\"b is greater\")\n",
        "else:\n",
        "    print(\"c is greater\")"
      ]
    }
  ]
}