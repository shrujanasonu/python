{
  "nbformat": 4,
  "nbformat_minor": 0,
  "metadata": {
    "colab": {
      "provenance": []
    },
    "kernelspec": {
      "name": "python3",
      "display_name": "Python 3"
    },
    "language_info": {
      "name": "python"
    }
  },
  "cells": [
    {
      "cell_type": "code",
      "source": [
        "sonu = [1,2,3,4,5,6]\n",
        "sonu\n",
        "sonu[0]\n",
        "sonu[0]=7\n",
        "sonu\n",
        "sonu.append(7.6)\n",
        "sonu\n"
      ],
      "metadata": {
        "colab": {
          "base_uri": "https://localhost:8080/"
        },
        "id": "YX5Jl0MKqvoN",
        "outputId": "5d8dba67-ae8f-4a2b-ee62-66ef50c9d1d9"
      },
      "execution_count": 1,
      "outputs": [
        {
          "output_type": "execute_result",
          "data": {
            "text/plain": [
              "[7, 2, 3, 4, 5, 6, 7.6]"
            ]
          },
          "metadata": {},
          "execution_count": 1
        }
      ]
    }
  ]
}