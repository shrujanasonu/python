{
  "nbformat": 4,
  "nbformat_minor": 0,
  "metadata": {
    "colab": {
      "provenance": []
    },
    "kernelspec": {
      "name": "python3",
      "display_name": "Python 3"
    },
    "language_info": {
      "name": "python"
    }
  },
  "cells": [
    {
      "cell_type": "code",
      "source": [
        "a = {\n",
        "    \"name\": \"sonu\",\n",
        "    \"age\": 19,\n",
        "    \"height\":5.6,\n",
        "}\n",
        "a"
      ],
      "metadata": {
        "colab": {
          "base_uri": "https://localhost:8080/"
        },
        "id": "P6-W4ZiP7nOJ",
        "outputId": "d1808b89-d9ad-4d2f-b803-b71b72b1046e"
      },
      "execution_count": 9,
      "outputs": [
        {
          "output_type": "execute_result",
          "data": {
            "text/plain": [
              "{'name': 'sonu', 'age': 19, 'height': 5.6}"
            ]
          },
          "metadata": {},
          "execution_count": 9
        }
      ]
    }
  ]
}