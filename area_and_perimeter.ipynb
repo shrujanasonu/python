{
  "nbformat": 4,
  "nbformat_minor": 0,
  "metadata": {
    "colab": {
      "provenance": []
    },
    "kernelspec": {
      "name": "python3",
      "display_name": "Python 3"
    },
    "language_info": {
      "name": "python"
    }
  },
  "cells": [
    {
      "cell_type": "code",
      "source": [
        "l=int(input(\"enter lenght\"))\n",
        "w=int(input(\"enter width\"))\n",
        "area=1*w\n",
        "perimeter=2*(l+w)\n",
        "print(area,\"\\nperimeter is\",perimeter)"
      ],
      "metadata": {
        "colab": {
          "base_uri": "https://localhost:8080/"
        },
        "id": "1SOw6jL9FaBl",
        "outputId": "66422d54-7baa-491f-d08c-5b0cc212e0c8"
      },
      "execution_count": 5,
      "outputs": [
        {
          "output_type": "stream",
          "name": "stdout",
          "text": [
            "enter lenght3\n",
            "enter width5\n",
            "5 \n",
            "perimeter is 16\n"
          ]
        }
      ]
    }
  ]
}