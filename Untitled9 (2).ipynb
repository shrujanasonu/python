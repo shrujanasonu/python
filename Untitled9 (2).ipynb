{
  "nbformat": 4,
  "nbformat_minor": 0,
  "metadata": {
    "colab": {
      "provenance": []
    },
    "kernelspec": {
      "name": "python3",
      "display_name": "Python 3"
    },
    "language_info": {
      "name": "python"
    }
  },
  "cells": [
    {
      "cell_type": "code",
      "source": [
        "def fibonacci(n):\n",
        "    a, b = 0, 1\n",
        "    for _ in range(n):\n",
        "        print(a, end=\" \")\n",
        "        a, b = b, a + b\n",
        "n = int(input(\"Enter the number of terms: \"))\n",
        "fibonacci(n)\n"
      ],
      "metadata": {
        "colab": {
          "base_uri": "https://localhost:8080/"
        },
        "id": "E6yXEPm_mAgq",
        "outputId": "25742079-4172-4757-900b-b61738d0facd"
      },
      "execution_count": 8,
      "outputs": [
        {
          "output_type": "stream",
          "name": "stdout",
          "text": [
            "Enter the number of terms: 2\n",
            "0 1 "
          ]
        }
      ]
    }
  ]
}