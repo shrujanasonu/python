{
  "nbformat": 4,
  "nbformat_minor": 0,
  "metadata": {
    "colab": {
      "provenance": []
    },
    "kernelspec": {
      "name": "python3",
      "display_name": "Python 3"
    },
    "language_info": {
      "name": "python"
    }
  },
  "cells": [
    {
      "cell_type": "code",
      "source": [
        "class animal:\n",
        "  def speak(self):\n",
        "    print(\"i am a animal\")\n",
        "class dog(animal):\n",
        "  def speak(self):\n",
        "    print(\"i am a dog\")\n",
        "class cat(animal):\n",
        "  def speak(self):\n",
        "    print(\"i am a cat\")\n",
        "CAT = cat()\n",
        "CAT.speak()\n",
        "DOG = dog()\n",
        "DOG.speak()"
      ],
      "metadata": {
        "colab": {
          "base_uri": "https://localhost:8080/"
        },
        "id": "1ctEaUkMOMCo",
        "outputId": "8c072053-2199-4eb4-8742-3457cc26a403"
      },
      "execution_count": 50,
      "outputs": [
        {
          "output_type": "stream",
          "name": "stdout",
          "text": [
            "i am a cat\n",
            "i am a dog\n"
          ]
        }
      ]
    }
  ]
}