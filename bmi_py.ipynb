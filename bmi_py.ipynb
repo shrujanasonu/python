{
  "nbformat": 4,
  "nbformat_minor": 0,
  "metadata": {
    "colab": {
      "provenance": []
    },
    "kernelspec": {
      "name": "python3",
      "display_name": "Python 3"
    },
    "language_info": {
      "name": "python"
    }
  },
  "cells": [
    {
      "cell_type": "code",
      "source": [
        "a=float(input(\"enter height\"))\n",
        "b=int(input(\"enter weight\"))\n",
        "bmi=b/(a*a)\n",
        "print(bmi)"
      ],
      "metadata": {
        "colab": {
          "base_uri": "https://localhost:8080/"
        },
        "id": "H1z6b-S6_Pg0",
        "outputId": "b454a138-16bd-4a7a-b7b9-ee73e9c6ad48"
      },
      "execution_count": 7,
      "outputs": [
        {
          "output_type": "stream",
          "name": "stdout",
          "text": [
            "enter height5.6\n",
            "enter weight68\n",
            "2.168367346938776\n"
          ]
        }
      ]
    }
  ]
}